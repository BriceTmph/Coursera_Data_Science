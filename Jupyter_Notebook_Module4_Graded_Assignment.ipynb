{
 "cells": [
  {
   "cell_type": "markdown",
   "metadata": {},
   "source": [
    "<center>\n",
    "    <img src=\"https://cf-courses-data.s3.us.cloud-object-storage.appdomain.cloud/IBMDeveloperSkillsNetwork-DS0105EN-SkillsNetwork/labs/Module2/images/SN_web_lightmode.png\" width=\"300\" alt=\"cognitiveclass.ai logo\">\n",
    "</center>\n"
   ]
  },
  {
   "cell_type": "markdown",
   "metadata": {},
   "source": [
    "#### Add your code below following the instructions given in the course\n"
   ]
  },
  {
   "cell_type": "markdown",
   "metadata": {
    "tags": []
   },
   "source": [
    "# Module 4 - Graded Assignment"
   ]
  },
  {
   "cell_type": "markdown",
   "metadata": {},
   "source": [
    "**Introduction:** <br>\n",
    "This notebook is used to complete the graded assignement of Tools for Data Science - Module 4."
   ]
  },
  {
   "cell_type": "markdown",
   "metadata": {},
   "source": [
    "**5 languages for Data Science:** <br>\n",
    "- Python\n",
    "- R\n",
    "- SQL\n",
    "- C++\n",
    "- JavaScript\n"
   ]
  },
  {
   "cell_type": "markdown",
   "metadata": {},
   "source": [
    "**5 libraries for Data Science:** <br>\n",
    "- TensorFlow\n",
    "- NumPy\n",
    "- SciPy \n",
    "- Pandas\n",
    "- Matplotlib\n"
   ]
  },
  {
   "cell_type": "markdown",
   "metadata": {},
   "source": [
    "**Table of Data Science tools:** <br>\n",
    "Data Science tools |\n",
    "-----\n",
    "Python |\n",
    "R |\n",
    "SQL |\n",
    "TensorFlow |\n",
    "IBM Watson Studio |\n",
    "Tableau |\n",
    "Power BI |"
   ]
  },
  {
   "cell_type": "markdown",
   "metadata": {},
   "source": [
    "**Arithmetic expression examples:** <br>\n",
    "1+1=2 <br>\n",
    "5-2=3 <br>\n",
    "8/4=2"
   ]
  },
  {
   "cell_type": "code",
   "execution_count": 8,
   "metadata": {},
   "outputs": [
    {
     "data": {
      "text/plain": [
       "22"
      ]
     },
     "execution_count": 8,
     "metadata": {},
     "output_type": "execute_result"
    }
   ],
   "source": [
    "5*3+7"
   ]
  },
  {
   "cell_type": "code",
   "execution_count": 9,
   "metadata": {},
   "outputs": [
    {
     "name": "stdout",
     "output_type": "stream",
     "text": [
      "120 minutes equal 2.0 hours.\n"
     ]
    }
   ],
   "source": [
    "minutes=120\n",
    "hours=minutes/60\n",
    "print(str(minutes)+\" minutes equal \"+str(hours)+\" hours.\")"
   ]
  },
  {
   "cell_type": "markdown",
   "metadata": {},
   "source": [
    "**Objectives:** <br>\n",
    "- Exercise 2 - Create a markdown cell with the title of the notebook. (1 pt) <br>\n",
    "- Exercise 3 - Create a markdown cell for an introduction. (1 pt) <br>\n",
    "- Exercise 4 - Create a markdown cell to list data science languages. (3 pts) <br>\n",
    "- Exercise 5 - Create a markdown cell to list data science libraries. (3 pts) <br>\n",
    "- Exercise 6 - Create a markdown cell with a table of Data Science tools. (3 pts) <br>\n",
    "- Exercise 7 - Create a markdown cell introducing arithmetic expression examples. (1 pt) <br>\n",
    "- Exercise 8 - Create a code cell to multiply and add numbers.(2 pts) <br>\n",
    "- Exercise 9 - Create a code cell to convert minutes to hours. (2 pts) <br>\n",
    "- Exercise 10 -Insert a markdown cell to list Objectives. (3 pts) <br>\n",
    "- Exercise 11 - Create a markdown cell to indicate the Author’s name. (2 pts) <br>\n",
    "- Exercise 12 - Share your notebook through GitHub (3 pts) <br>\n",
    "- Exercise 13 - Take a screenshot of the first page of the notebook. (1 pt)"
   ]
  },
  {
   "cell_type": "markdown",
   "metadata": {},
   "source": [
    "**Author:** <br>\n",
    "Brice Thamphya"
   ]
  },
  {
   "cell_type": "code",
   "execution_count": null,
   "metadata": {},
   "outputs": [],
   "source": []
  }
 ],
 "metadata": {
  "kernelspec": {
   "display_name": "Python",
   "language": "python",
   "name": "conda-env-python-py"
  },
  "language_info": {
   "codemirror_mode": {
    "name": "ipython",
    "version": 3
   },
   "file_extension": ".py",
   "mimetype": "text/x-python",
   "name": "python",
   "nbconvert_exporter": "python",
   "pygments_lexer": "ipython3",
   "version": "3.7.12"
  }
 },
 "nbformat": 4,
 "nbformat_minor": 4
}
